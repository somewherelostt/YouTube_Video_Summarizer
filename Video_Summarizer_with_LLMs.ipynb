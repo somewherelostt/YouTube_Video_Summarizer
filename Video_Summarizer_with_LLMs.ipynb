{
  "nbformat": 4,
  "nbformat_minor": 0,
  "metadata": {
    "colab": {
      "provenance": [],
      "gpuType": "T4",
      "authorship_tag": "ABX9TyPipgubO9sgWl8nkEFKoLnk",
      "include_colab_link": true
    },
    "kernelspec": {
      "name": "python3",
      "display_name": "Python 3"
    },
    "language_info": {
      "name": "python"
    },
    "accelerator": "GPU"
  },
  "cells": [
    {
      "cell_type": "markdown",
      "metadata": {
        "id": "view-in-github",
        "colab_type": "text"
      },
      "source": [
        "<a href=\"https://colab.research.google.com/github/somewherelostt/YouTube_Video_Summarizer/blob/main/Video_Summarizer_with_LLMs.ipynb\" target=\"_parent\"><img src=\"https://colab.research.google.com/assets/colab-badge.svg\" alt=\"Open In Colab\"/></a>"
      ]
    },
    {
      "cell_type": "code",
      "execution_count": 23,
      "metadata": {
        "colab": {
          "base_uri": "https://localhost:8080/"
        },
        "id": "MTO6lIYxfWiP",
        "outputId": "23405cf2-2278-4f9e-fc67-2b8e50cc1137"
      },
      "outputs": [
        {
          "output_type": "stream",
          "name": "stdout",
          "text": [
            "Requirement already satisfied: youtube_transcript_api in /usr/local/lib/python3.10/dist-packages (0.6.3)\n",
            "Requirement already satisfied: defusedxml<0.8.0,>=0.7.1 in /usr/local/lib/python3.10/dist-packages (from youtube_transcript_api) (0.7.1)\n",
            "Requirement already satisfied: requests in /usr/local/lib/python3.10/dist-packages (from youtube_transcript_api) (2.32.3)\n",
            "Requirement already satisfied: charset-normalizer<4,>=2 in /usr/local/lib/python3.10/dist-packages (from requests->youtube_transcript_api) (3.4.0)\n",
            "Requirement already satisfied: idna<4,>=2.5 in /usr/local/lib/python3.10/dist-packages (from requests->youtube_transcript_api) (3.10)\n",
            "Requirement already satisfied: urllib3<3,>=1.21.1 in /usr/local/lib/python3.10/dist-packages (from requests->youtube_transcript_api) (2.2.3)\n",
            "Requirement already satisfied: certifi>=2017.4.17 in /usr/local/lib/python3.10/dist-packages (from requests->youtube_transcript_api) (2024.12.14)\n"
          ]
        }
      ],
      "source": [
        "!pip install youtube_transcript_api"
      ]
    },
    {
      "cell_type": "code",
      "source": [
        "from youtube_transcript_api import YouTubeTranscriptApi"
      ],
      "metadata": {
        "id": "3PC_SXt4fin6"
      },
      "execution_count": 24,
      "outputs": []
    },
    {
      "cell_type": "code",
      "source": [
        "def get_video_id(url_link):\n",
        "  return url_link.split(\"watch?v=\")[-1]"
      ],
      "metadata": {
        "id": "Uv0Uv7vxfnmR"
      },
      "execution_count": 25,
      "outputs": []
    },
    {
      "cell_type": "code",
      "source": [
        "video_id = get_video_id(\"https://www.youtube.com/watch?v=zdMhGxRWutQ\")"
      ],
      "metadata": {
        "id": "TJaigR8Tfw59"
      },
      "execution_count": 26,
      "outputs": []
    },
    {
      "cell_type": "code",
      "source": [
        "transcript = YouTubeTranscriptApi.get_transcript(video_id)"
      ],
      "metadata": {
        "id": "oupLWrOogBA7"
      },
      "execution_count": 27,
      "outputs": []
    },
    {
      "cell_type": "code",
      "source": [
        "transcript"
      ],
      "metadata": {
        "colab": {
          "base_uri": "https://localhost:8080/"
        },
        "collapsed": true,
        "id": "GURfRpQagK5-",
        "outputId": "b01bbde7-21ef-4347-f9dc-c6f17eecc3a1"
      },
      "execution_count": 28,
      "outputs": [
        {
          "output_type": "execute_result",
          "data": {
            "text/plain": [
              "[{'text': \"hey everyone welcome back and let's\",\n",
              "  'start': 0.42,\n",
              "  'duration': 4.02},\n",
              " {'text': 'write some more neat code today so today',\n",
              "  'start': 2.58,\n",
              "  'duration': 4.56},\n",
              " {'text': \"let's solve the problems square root of\",\n",
              "  'start': 4.44,\n",
              "  'duration': 6.06},\n",
              " {'text': \"x we're given a non-negative integer X\",\n",
              "  'start': 7.14,\n",
              "  'duration': 5.82},\n",
              " {'text': 'and we want to return the square root of',\n",
              "  'start': 10.5,\n",
              "  'duration': 6.0},\n",
              " {'text': 'x rounded down to the nearest integer so',\n",
              "  'start': 12.96,\n",
              "  'duration': 5.159},\n",
              " {'text': \"for example the number four what's the\",\n",
              "  'start': 16.5,\n",
              "  'duration': 5.58},\n",
              " {'text': \"square root it's 2 2 squared is equal to\",\n",
              "  'start': 18.119,\n",
              "  'duration': 6.721},\n",
              " {'text': \"4. what about 8 well it doesn't have\",\n",
              "  'start': 22.08,\n",
              "  'duration': 5.22},\n",
              " {'text': \"like an integer value square root it's\",\n",
              "  'start': 24.84,\n",
              "  'duration': 5.46},\n",
              " {'text': 'something like 2.82 you take that number',\n",
              "  'start': 27.3,\n",
              "  'duration': 6.12},\n",
              " {'text': 'and square it you get eight but in this',\n",
              "  'start': 30.3,\n",
              "  'duration': 6.54},\n",
              " {'text': 'case we would want to still return the',\n",
              "  'start': 33.42,\n",
              "  'duration': 7.2},\n",
              " {'text': \"value 2 because it's the square root\",\n",
              "  'start': 36.84,\n",
              "  'duration': 6.6},\n",
              " {'text': 'rounded down so how can we solve this',\n",
              "  'start': 40.62,\n",
              "  'duration': 4.98},\n",
              " {'text': \"problem well given an integer let's say\",\n",
              "  'start': 43.44,\n",
              "  'duration': 4.619},\n",
              " {'text': 'x equals 7 how do we find the square',\n",
              "  'start': 45.6,\n",
              "  'duration': 3.84},\n",
              " {'text': \"root we know it's going to be two point\",\n",
              "  'start': 48.059,\n",
              "  'duration': 2.881},\n",
              " {'text': \"something something and we're going to\",\n",
              "  'start': 49.44,\n",
              "  'duration': 3.599},\n",
              " {'text': 'round that down to two but how would we',\n",
              "  'start': 50.94,\n",
              "  'duration': 4.139},\n",
              " {'text': 'determine that well the brute force',\n",
              "  'start': 53.039,\n",
              "  'duration': 5.581},\n",
              " {'text': 'would be to just iterate four in range',\n",
              "  'start': 55.079,\n",
              "  'duration': 6.361},\n",
              " {'text': \"let's say starting at 1 and going all\",\n",
              "  'start': 58.62,\n",
              "  'duration': 5.099},\n",
              " {'text': 'the way up until the x value which is in',\n",
              "  'start': 61.44,\n",
              "  'duration': 3.719},\n",
              " {'text': \"this case seven we're going to Brute\",\n",
              "  'start': 63.719,\n",
              "  'duration': 3.481},\n",
              " {'text': 'Force this and find the square root we',\n",
              "  'start': 65.159,\n",
              "  'duration': 4.261},\n",
              " {'text': 'know the square root is going to be less',\n",
              "  'start': 67.2,\n",
              "  'duration': 5.099},\n",
              " {'text': 'than 7 and probably greater than or',\n",
              "  'start': 69.42,\n",
              "  'duration': 4.92},\n",
              " {'text': \"equal to 1 though it probably wouldn't\",\n",
              "  'start': 72.299,\n",
              "  'duration': 4.32},\n",
              " {'text': 'hurt to start at zero because in this',\n",
              "  'start': 74.34,\n",
              "  'duration': 5.4},\n",
              " {'text': 'case our input value X could be zero and',\n",
              "  'start': 76.619,\n",
              "  'duration': 5.581},\n",
              " {'text': 'the square root of zero I guess is also',\n",
              "  'start': 79.74,\n",
              "  'duration': 4.98},\n",
              " {'text': \"zero but that's a minor detail let's say\",\n",
              "  'start': 82.2,\n",
              "  'duration': 5.16},\n",
              " {'text': \"we start at one we square one that's\",\n",
              "  'start': 84.72,\n",
              "  'duration': 4.8},\n",
              " {'text': 'equal to one is that the square root',\n",
              "  'start': 87.36,\n",
              "  'duration': 5.46},\n",
              " {'text': \"well let's try the next value two two\",\n",
              "  'start': 89.52,\n",
              "  'duration': 6.12},\n",
              " {'text': 'squared is equal to four is that the',\n",
              "  'start': 92.82,\n",
              "  'duration': 5.159},\n",
              " {'text': \"square root of 7 well let's keep trying\",\n",
              "  'start': 95.64,\n",
              "  'duration': 6.24},\n",
              " {'text': 'we get to 3 now 3 squared is equal to',\n",
              "  'start': 97.979,\n",
              "  'duration': 7.381},\n",
              " {'text': 'nine so we went too high we are now',\n",
              "  'start': 101.88,\n",
              "  'duration': 7.08},\n",
              " {'text': 'greater than seven so three is not going',\n",
              "  'start': 105.36,\n",
              "  'duration': 5.219},\n",
              " {'text': 'to be the square root because we know',\n",
              "  'start': 108.96,\n",
              "  'duration': 4.26},\n",
              " {'text': \"we're going to round down anyway the\",\n",
              "  'start': 110.579,\n",
              "  'duration': 5.461},\n",
              " {'text': 'last value that we saw that did not go',\n",
              "  'start': 113.22,\n",
              "  'duration': 6.719},\n",
              " {'text': 'over was two two squared was equal to 4',\n",
              "  'start': 116.04,\n",
              "  'duration': 6.96},\n",
              " {'text': 'so so 2 is going to be the square root',\n",
              "  'start': 119.939,\n",
              "  'duration': 6.78},\n",
              " {'text': 'of 7 rounded down now the downside with',\n",
              "  'start': 123.0,\n",
              "  'duration': 6.3},\n",
              " {'text': 'this solution is that it is a Brute',\n",
              "  'start': 126.719,\n",
              "  'duration': 5.52},\n",
              " {'text': \"Force solution it's actually not Big O\",\n",
              "  'start': 129.3,\n",
              "  'duration': 5.579},\n",
              " {'text': 'of n even though it kind of looks like',\n",
              "  'start': 132.239,\n",
              "  'duration': 5.401},\n",
              " {'text': 'it because we know that the loop is',\n",
              "  'start': 134.879,\n",
              "  'duration': 6.421},\n",
              " {'text': 'going to terminate before we get to n',\n",
              "  'start': 137.64,\n",
              "  'duration': 6.48},\n",
              " {'text': \"it's going to terminate by the time we\",\n",
              "  'start': 141.3,\n",
              "  'duration': 5.28},\n",
              " {'text': 'reach the value which is the square root',\n",
              "  'start': 144.12,\n",
              "  'duration': 5.64},\n",
              " {'text': \"of n which makes sense because let's say\",\n",
              "  'start': 146.58,\n",
              "  'duration': 6.239},\n",
              " {'text': 'you know in terms of n n is the input',\n",
              "  'start': 149.76,\n",
              "  'duration': 6.059},\n",
              " {'text': \"value X we know we're going to stop by\",\n",
              "  'start': 152.819,\n",
              "  'duration': 5.101},\n",
              " {'text': 'the time we get to the value which is',\n",
              "  'start': 155.819,\n",
              "  'duration': 4.14},\n",
              " {'text': 'the square root of n because we know',\n",
              "  'start': 157.92,\n",
              "  'duration': 5.039},\n",
              " {'text': 'that value squared is going to be equal',\n",
              "  'start': 159.959,\n",
              "  'duration': 6.42},\n",
              " {'text': 'to n so in reality this for Loop is',\n",
              "  'start': 162.959,\n",
              "  'duration': 6.301},\n",
              " {'text': 'going to run in Big O of the square root',\n",
              "  'start': 166.379,\n",
              "  'duration': 5.94},\n",
              " {'text': 'of n time but we can actually do even',\n",
              "  'start': 169.26,\n",
              "  'duration': 6.24},\n",
              " {'text': 'better than this as well because we can',\n",
              "  'start': 172.319,\n",
              "  'duration': 6.961},\n",
              " {'text': 'use a binary search approach which is',\n",
              "  'start': 175.5,\n",
              "  'duration': 7.14},\n",
              " {'text': 'going to be log n now before I explain',\n",
              "  'start': 179.28,\n",
              "  'duration': 5.22},\n",
              " {'text': 'it you might be wondering how do we know',\n",
              "  'start': 182.64,\n",
              "  'duration': 4.44},\n",
              " {'text': 'that this is more efficient than the',\n",
              "  'start': 184.5,\n",
              "  'duration': 4.56},\n",
              " {'text': \"square root of n because it's not super\",\n",
              "  'start': 187.08,\n",
              "  'duration': 4.5},\n",
              " {'text': \"obvious well I won't give you like a\",\n",
              "  'start': 189.06,\n",
              "  'duration': 4.56},\n",
              " {'text': 'super long mathematical proof but',\n",
              "  'start': 191.58,\n",
              "  'duration': 4.56},\n",
              " {'text': 'intuitively we can think about this in',\n",
              "  'start': 193.62,\n",
              "  'duration': 5.82},\n",
              " {'text': 'terms of big n values what is the square',\n",
              "  'start': 196.14,\n",
              "  'duration': 7.44},\n",
              " {'text': 'root of n if n is equal to a million',\n",
              "  'start': 199.44,\n",
              "  'duration': 5.879},\n",
              " {'text': 'well the square root of a million is',\n",
              "  'start': 203.58,\n",
              "  'duration': 5.159},\n",
              " {'text': 'going to be a thousand well what is log',\n",
              "  'start': 205.319,\n",
              "  'duration': 7.381},\n",
              " {'text': \"base 2 of a million well it's going to\",\n",
              "  'start': 208.739,\n",
              "  'duration': 5.761},\n",
              " {'text': \"be an integer value I don't know the\",\n",
              "  'start': 212.7,\n",
              "  'duration': 3.72},\n",
              " {'text': \"exact value but I know it's in the\",\n",
              "  'start': 214.5,\n",
              "  'duration': 4.019},\n",
              " {'text': 'magnitude of like 20 or something maybe',\n",
              "  'start': 216.42,\n",
              "  'duration': 5.459},\n",
              " {'text': '21 or 19 something like that but clearly',\n",
              "  'start': 218.519,\n",
              "  'duration': 5.58},\n",
              " {'text': \"that's a big difference square root of a\",\n",
              "  'start': 221.879,\n",
              "  'duration': 5.821},\n",
              " {'text': 'million is a thousand log base 2 of a',\n",
              "  'start': 224.099,\n",
              "  'duration': 6.42},\n",
              " {'text': 'million is 20. you can clearly see that',\n",
              "  'start': 227.7,\n",
              "  'duration': 6.48},\n",
              " {'text': 'log grows a lot slower so log is going',\n",
              "  'start': 230.519,\n",
              "  'duration': 5.701},\n",
              " {'text': 'to be much more efficient if we can',\n",
              "  'start': 234.18,\n",
              "  'duration': 4.86},\n",
              " {'text': 'achieve a solution like this which we',\n",
              "  'start': 236.22,\n",
              "  'duration': 5.82},\n",
              " {'text': 'can using binary search we know our',\n",
              "  'start': 239.04,\n",
              "  'duration': 5.339},\n",
              " {'text': 'search space is going to be between',\n",
              "  'start': 242.04,\n",
              "  'duration': 6.66},\n",
              " {'text': \"let's say zero all the way up until X\",\n",
              "  'start': 244.379,\n",
              "  'duration': 7.981},\n",
              " {'text': \"it's a range of values we're going to\",\n",
              "  'start': 248.7,\n",
              "  'duration': 6.959},\n",
              " {'text': 'calculate the Midway point so 0 plus x',\n",
              "  'start': 252.36,\n",
              "  'duration': 5.48},\n",
              " {'text': 'divided by 2 is going to give us some',\n",
              "  'start': 255.659,\n",
              "  'duration': 5.941},\n",
              " {'text': \"Midway value we're going to check M\",\n",
              "  'start': 257.84,\n",
              "  'duration': 7.96},\n",
              " {'text': 'squared is it greater than x because if',\n",
              "  'start': 261.6,\n",
              "  'duration': 7.379},\n",
              " {'text': \"it's greater we know that this can't be\",\n",
              "  'start': 265.8,\n",
              "  'duration': 6.119},\n",
              " {'text': 'the square root of x and we need to now',\n",
              "  'start': 268.979,\n",
              "  'duration': 6.541},\n",
              " {'text': 'decrease our search space so if this is',\n",
              "  'start': 271.919,\n",
              "  'duration': 5.881},\n",
              " {'text': \"true what we would say then is we're\",\n",
              "  'start': 275.52,\n",
              "  'duration': 5.34},\n",
              " {'text': 'going to cut our search space in half',\n",
              "  'start': 277.8,\n",
              "  'duration': 7.44},\n",
              " {'text': 'and now start searching between 0 and M',\n",
              "  'start': 280.86,\n",
              "  'duration': 8.1},\n",
              " {'text': 'minus one whatever that previous M value',\n",
              "  'start': 285.24,\n",
              "  'duration': 5.7},\n",
              " {'text': \"happened to be and we're going to\",\n",
              "  'start': 288.96,\n",
              "  'duration': 4.92},\n",
              " {'text': 'continue doing this suppose next time we',\n",
              "  'start': 290.94,\n",
              "  'duration': 6.42},\n",
              " {'text': 'calculate the mid value and mid squared',\n",
              "  'start': 293.88,\n",
              "  'duration': 7.319},\n",
              " {'text': 'is actually less than x then then we',\n",
              "  'start': 297.36,\n",
              "  'duration': 6.0},\n",
              " {'text': 'would do the opposite we would increase',\n",
              "  'start': 301.199,\n",
              "  'duration': 4.621},\n",
              " {'text': 'our search space and then search on the',\n",
              "  'start': 303.36,\n",
              "  'duration': 5.399},\n",
              " {'text': 'values on the right side of that and we',\n",
              "  'start': 305.82,\n",
              "  'duration': 5.04},\n",
              " {'text': 'would keep doing this but the difference',\n",
              "  'start': 308.759,\n",
              "  'duration': 5.16},\n",
              " {'text': 'here is that when our M squared value is',\n",
              "  'start': 310.86,\n",
              "  'duration': 5.88},\n",
              " {'text': 'less than x this is going to be a',\n",
              "  'start': 313.919,\n",
              "  'duration': 6.301},\n",
              " {'text': 'candidate for our result because we',\n",
              "  'start': 316.74,\n",
              "  'duration': 6.84},\n",
              " {'text': 'basically want the largest value the',\n",
              "  'start': 320.22,\n",
              "  'duration': 7.08},\n",
              " {'text': 'largest M value where this is true',\n",
              "  'start': 323.58,\n",
              "  'duration': 6.179},\n",
              " {'text': \"that's assuming though that the square\",\n",
              "  'start': 327.3,\n",
              "  'duration': 5.339},\n",
              " {'text': 'root is going to be a non-integer value',\n",
              "  'start': 329.759,\n",
              "  'duration': 6.181},\n",
              " {'text': \"it's also possible that the M squared\",\n",
              "  'start': 332.639,\n",
              "  'duration': 7.741},\n",
              " {'text': 'value actually is equal to X if this was',\n",
              "  'start': 335.94,\n",
              "  'duration': 7.02},\n",
              " {'text': 'the case suppose like an example like',\n",
              "  'start': 340.38,\n",
              "  'duration': 5.039},\n",
              " {'text': 'this where 2 squared is equal to 4. if',\n",
              "  'start': 342.96,\n",
              "  'duration': 4.579},\n",
              " {'text': 'this is the case we basically return',\n",
              "  'start': 345.419,\n",
              "  'duration': 4.981},\n",
              " {'text': \"immediately so that's the idea of how\",\n",
              "  'start': 347.539,\n",
              "  'duration': 4.241},\n",
              " {'text': \"we're going to solve this with binary\",\n",
              "  'start': 350.4,\n",
              "  'duration': 3.84},\n",
              " {'text': \"search in login time it's going to make\",\n",
              "  'start': 351.78,\n",
              "  'duration': 4.259},\n",
              " {'text': 'even more sense when I show you the code',\n",
              "  'start': 354.24,\n",
              "  'duration': 4.44},\n",
              " {'text': \"right now so first things first let's\",\n",
              "  'start': 356.039,\n",
              "  'duration': 5.461},\n",
              " {'text': 'initialize our search base left is going',\n",
              "  'start': 358.68,\n",
              "  'duration': 5.1},\n",
              " {'text': 'to be set to zero right is going to be',\n",
              "  'start': 361.5,\n",
              "  'duration': 4.86},\n",
              " {'text': \"set to X we're also going to initialize\",\n",
              "  'start': 363.78,\n",
              "  'duration': 4.56},\n",
              " {'text': \"our result it doesn't really matter what\",\n",
              "  'start': 366.36,\n",
              "  'duration': 3.48},\n",
              " {'text': \"value we give it I'm just going to give\",\n",
              "  'start': 368.34,\n",
              "  'duration': 4.02},\n",
              " {'text': \"it a zero and then we're going to run\",\n",
              "  'start': 369.84,\n",
              "  'duration': 5.04},\n",
              " {'text': 'our binary search while left is less',\n",
              "  'start': 372.36,\n",
              "  'duration': 4.26},\n",
              " {'text': 'than or equal to right while our',\n",
              "  'start': 374.88,\n",
              "  'duration': 3.18},\n",
              " {'text': \"pointers haven't crossed each other\",\n",
              "  'start': 376.62,\n",
              "  'duration': 3.9},\n",
              " {'text': \"we're going to continue searching you\",\n",
              "  'start': 378.06,\n",
              "  'duration': 5.699},\n",
              " {'text': 'could say m is equal to left plus right',\n",
              "  'start': 380.52,\n",
              "  'duration': 5.64},\n",
              " {'text': 'divided by 2 but that could possibly',\n",
              "  'start': 383.759,\n",
              "  'duration': 5.101},\n",
              " {'text': 'overflow a better way to do it is to say',\n",
              "  'start': 386.16,\n",
              "  'duration': 6.42},\n",
              " {'text': 'left plus the halfway distance between',\n",
              "  'start': 388.86,\n",
              "  'duration': 6.72},\n",
              " {'text': 'right minus left so taking right minus',\n",
              "  'start': 392.58,\n",
              "  'duration': 5.76},\n",
              " {'text': 'left and dividing that by two this also',\n",
              "  'start': 395.58,\n",
              "  'duration': 5.399},\n",
              " {'text': \"gives us the same value as before it's a\",\n",
              "  'start': 398.34,\n",
              "  'duration': 4.139},\n",
              " {'text': 'different math equation for the same',\n",
              "  'start': 400.979,\n",
              "  'duration': 3.301},\n",
              " {'text': 'value the only difference is that this',\n",
              "  'start': 402.479,\n",
              "  'duration': 4.321},\n",
              " {'text': \"will never overflow it's a minor detail\",\n",
              "  'start': 404.28,\n",
              "  'duration': 4.8},\n",
              " {'text': \"but I think it's worth knowing next\",\n",
              "  'start': 406.8,\n",
              "  'duration': 5.459},\n",
              " {'text': \"we're going to run our equalities so\",\n",
              "  'start': 409.08,\n",
              "  'duration': 6.179},\n",
              " {'text': \"we're going to check is M squared you\",\n",
              "  'start': 412.259,\n",
              "  'duration': 5.821},\n",
              " {'text': 'can square it like this in Python is it',\n",
              "  'start': 415.259,\n",
              "  'duration': 5.701},\n",
              " {'text': \"greater than x what happens if it's\",\n",
              "  'start': 418.08,\n",
              "  'duration': 5.04},\n",
              " {'text': \"greater than x then we're going to\",\n",
              "  'start': 420.96,\n",
              "  'duration': 4.079},\n",
              " {'text': \"decrease our search space we're going to\",\n",
              "  'start': 423.12,\n",
              "  'duration': 5.34},\n",
              " {'text': \"say right is equal to M minus 1. we're\",\n",
              "  'start': 425.039,\n",
              "  'duration': 6.78},\n",
              " {'text': 'going to search on the left side else if',\n",
              "  'start': 428.46,\n",
              "  'duration': 8.519},\n",
              " {'text': 'the opposite if M squared is less than x',\n",
              "  'start': 431.819,\n",
              "  'duration': 7.621},\n",
              " {'text': \"then we're going to search on the right\",\n",
              "  'start': 436.979,\n",
              "  'duration': 4.381},\n",
              " {'text': \"side we're going to say left is equal to\",\n",
              "  'start': 439.44,\n",
              "  'duration': 5.94},\n",
              " {'text': 'M plus 1. but also if this is the case',\n",
              "  'start': 441.36,\n",
              "  'duration': 8.22},\n",
              " {'text': 'we possibly want to set our result to',\n",
              "  'start': 445.38,\n",
              "  'duration': 6.18},\n",
              " {'text': 'this value because this could be the',\n",
              "  'start': 449.58,\n",
              "  'duration': 4.2},\n",
              " {'text': 'result this mid value could be the',\n",
              "  'start': 451.56,\n",
              "  'duration': 4.02},\n",
              " {'text': \"result so we're going to set it like\",\n",
              "  'start': 453.78,\n",
              "  'duration': 3.96},\n",
              " {'text': 'that now the third case and this might',\n",
              "  'start': 455.58,\n",
              "  'duration': 5.399},\n",
              " {'text': 'not always execute is that M squared is',\n",
              "  'start': 457.74,\n",
              "  'duration': 5.519},\n",
              " {'text': 'equal to X we can just use an else',\n",
              "  'start': 460.979,\n",
              "  'duration': 4.5},\n",
              " {'text': 'condition for that and then we would',\n",
              "  'start': 463.259,\n",
              "  'duration': 4.321},\n",
              " {'text': 'want to immediately return the mid value',\n",
              "  'start': 465.479,\n",
              "  'duration': 4.681},\n",
              " {'text': 'because we found the exact square root',\n",
              "  'start': 467.58,\n",
              "  'duration': 5.28},\n",
              " {'text': 'otherwise we know that the loop is',\n",
              "  'start': 470.16,\n",
              "  'duration': 4.979},\n",
              " {'text': 'eventually going to terminate and by the',\n",
              "  'start': 472.86,\n",
              "  'duration': 4.92},\n",
              " {'text': 'time it terminates our result will be',\n",
              "  'start': 475.139,\n",
              "  'duration': 6.12},\n",
              " {'text': 'set to basically the gray latest mid',\n",
              "  'start': 477.78,\n",
              "  'duration': 8.4},\n",
              " {'text': 'value that was less than x well the',\n",
              "  'start': 481.259,\n",
              "  'duration': 7.141},\n",
              " {'text': 'greatest value that we could square that',\n",
              "  'start': 486.18,\n",
              "  'duration': 4.26},\n",
              " {'text': 'is less than x which is basically the',\n",
              "  'start': 488.4,\n",
              "  'duration': 4.98},\n",
              " {'text': 'square root rounded down so in that case',\n",
              "  'start': 490.44,\n",
              "  'duration': 4.5},\n",
              " {'text': 'we would want to return the result',\n",
              "  'start': 493.38,\n",
              "  'duration': 4.56},\n",
              " {'text': 'outside of the loop just like this so',\n",
              "  'start': 494.94,\n",
              "  'duration': 4.92},\n",
              " {'text': \"now let's run the code to make sure that\",\n",
              "  'start': 497.94,\n",
              "  'duration': 4.379},\n",
              " {'text': \"it works as you can see it does it's\",\n",
              "  'start': 499.86,\n",
              "  'duration': 4.14},\n",
              " {'text': 'pretty efficient if this was helpful',\n",
              "  'start': 502.319,\n",
              "  'duration': 3.181},\n",
              " {'text': \"please like And subscribe if you're\",\n",
              "  'start': 504.0,\n",
              "  'duration': 2.94},\n",
              " {'text': 'preparing for coding interviews check',\n",
              "  'start': 505.5,\n",
              "  'duration': 3.419},\n",
              " {'text': 'out neco.io it has a ton of free',\n",
              "  'start': 506.94,\n",
              "  'duration': 4.08},\n",
              " {'text': 'resources to help you prepare thanks for',\n",
              "  'start': 508.919,\n",
              "  'duration': 3.781},\n",
              " {'text': \"watching and hopefully I'll see you\",\n",
              "  'start': 511.02,\n",
              "  'duration': 4.1},\n",
              " {'text': 'pretty soon', 'start': 512.7, 'duration': 2.42}]"
            ]
          },
          "metadata": {},
          "execution_count": 28
        }
      ]
    },
    {
      "cell_type": "code",
      "source": [
        "transcript_joined = \" \".join([line['text'] for line in transcript])"
      ],
      "metadata": {
        "id": "ZsP5kDdTgPQ8"
      },
      "execution_count": 29,
      "outputs": []
    },
    {
      "cell_type": "code",
      "source": [
        "transcript_joined"
      ],
      "metadata": {
        "colab": {
          "base_uri": "https://localhost:8080/",
          "height": 126
        },
        "id": "pORq7ljvg80B",
        "outputId": "10f4eddf-4386-434b-9c0f-e181e135c391"
      },
      "execution_count": 30,
      "outputs": [
        {
          "output_type": "execute_result",
          "data": {
            "text/plain": [
              "\"hey everyone welcome back and let's write some more neat code today so today let's solve the problems square root of x we're given a non-negative integer X and we want to return the square root of x rounded down to the nearest integer so for example the number four what's the square root it's 2 2 squared is equal to 4. what about 8 well it doesn't have like an integer value square root it's something like 2.82 you take that number and square it you get eight but in this case we would want to still return the value 2 because it's the square root rounded down so how can we solve this problem well given an integer let's say x equals 7 how do we find the square root we know it's going to be two point something something and we're going to round that down to two but how would we determine that well the brute force would be to just iterate four in range let's say starting at 1 and going all the way up until the x value which is in this case seven we're going to Brute Force this and find the square root we know the square root is going to be less than 7 and probably greater than or equal to 1 though it probably wouldn't hurt to start at zero because in this case our input value X could be zero and the square root of zero I guess is also zero but that's a minor detail let's say we start at one we square one that's equal to one is that the square root well let's try the next value two two squared is equal to four is that the square root of 7 well let's keep trying we get to 3 now 3 squared is equal to nine so we went too high we are now greater than seven so three is not going to be the square root because we know we're going to round down anyway the last value that we saw that did not go over was two two squared was equal to 4 so so 2 is going to be the square root of 7 rounded down now the downside with this solution is that it is a Brute Force solution it's actually not Big O of n even though it kind of looks like it because we know that the loop is going to terminate before we get to n it's going to terminate by the time we reach the value which is the square root of n which makes sense because let's say you know in terms of n n is the input value X we know we're going to stop by the time we get to the value which is the square root of n because we know that value squared is going to be equal to n so in reality this for Loop is going to run in Big O of the square root of n time but we can actually do even better than this as well because we can use a binary search approach which is going to be log n now before I explain it you might be wondering how do we know that this is more efficient than the square root of n because it's not super obvious well I won't give you like a super long mathematical proof but intuitively we can think about this in terms of big n values what is the square root of n if n is equal to a million well the square root of a million is going to be a thousand well what is log base 2 of a million well it's going to be an integer value I don't know the exact value but I know it's in the magnitude of like 20 or something maybe 21 or 19 something like that but clearly that's a big difference square root of a million is a thousand log base 2 of a million is 20. you can clearly see that log grows a lot slower so log is going to be much more efficient if we can achieve a solution like this which we can using binary search we know our search space is going to be between let's say zero all the way up until X it's a range of values we're going to calculate the Midway point so 0 plus x divided by 2 is going to give us some Midway value we're going to check M squared is it greater than x because if it's greater we know that this can't be the square root of x and we need to now decrease our search space so if this is true what we would say then is we're going to cut our search space in half and now start searching between 0 and M minus one whatever that previous M value happened to be and we're going to continue doing this suppose next time we calculate the mid value and mid squared is actually less than x then then we would do the opposite we would increase our search space and then search on the values on the right side of that and we would keep doing this but the difference here is that when our M squared value is less than x this is going to be a candidate for our result because we basically want the largest value the largest M value where this is true that's assuming though that the square root is going to be a non-integer value it's also possible that the M squared value actually is equal to X if this was the case suppose like an example like this where 2 squared is equal to 4. if this is the case we basically return immediately so that's the idea of how we're going to solve this with binary search in login time it's going to make even more sense when I show you the code right now so first things first let's initialize our search base left is going to be set to zero right is going to be set to X we're also going to initialize our result it doesn't really matter what value we give it I'm just going to give it a zero and then we're going to run our binary search while left is less than or equal to right while our pointers haven't crossed each other we're going to continue searching you could say m is equal to left plus right divided by 2 but that could possibly overflow a better way to do it is to say left plus the halfway distance between right minus left so taking right minus left and dividing that by two this also gives us the same value as before it's a different math equation for the same value the only difference is that this will never overflow it's a minor detail but I think it's worth knowing next we're going to run our equalities so we're going to check is M squared you can square it like this in Python is it greater than x what happens if it's greater than x then we're going to decrease our search space we're going to say right is equal to M minus 1. we're going to search on the left side else if the opposite if M squared is less than x then we're going to search on the right side we're going to say left is equal to M plus 1. but also if this is the case we possibly want to set our result to this value because this could be the result this mid value could be the result so we're going to set it like that now the third case and this might not always execute is that M squared is equal to X we can just use an else condition for that and then we would want to immediately return the mid value because we found the exact square root otherwise we know that the loop is eventually going to terminate and by the time it terminates our result will be set to basically the gray latest mid value that was less than x well the greatest value that we could square that is less than x which is basically the square root rounded down so in that case we would want to return the result outside of the loop just like this so now let's run the code to make sure that it works as you can see it does it's pretty efficient if this was helpful please like And subscribe if you're preparing for coding interviews check out neco.io it has a ton of free resources to help you prepare thanks for watching and hopefully I'll see you pretty soon\""
            ],
            "application/vnd.google.colaboratory.intrinsic+json": {
              "type": "string"
            }
          },
          "metadata": {},
          "execution_count": 30
        }
      ]
    },
    {
      "cell_type": "code",
      "source": [
        "!pip install deepmultilingualpunctuation\n"
      ],
      "metadata": {
        "colab": {
          "base_uri": "https://localhost:8080/"
        },
        "collapsed": true,
        "id": "iXSmGauPhBJt",
        "outputId": "31ad4935-c0e7-4d85-8804-437dc296cd89"
      },
      "execution_count": 31,
      "outputs": [
        {
          "output_type": "stream",
          "name": "stdout",
          "text": [
            "Requirement already satisfied: deepmultilingualpunctuation in /usr/local/lib/python3.10/dist-packages (1.0.1)\n",
            "Requirement already satisfied: torch>=1.8.1 in /usr/local/lib/python3.10/dist-packages (from deepmultilingualpunctuation) (2.5.1+cu121)\n",
            "Requirement already satisfied: transformers in /usr/local/lib/python3.10/dist-packages (from deepmultilingualpunctuation) (4.47.1)\n",
            "Requirement already satisfied: filelock in /usr/local/lib/python3.10/dist-packages (from torch>=1.8.1->deepmultilingualpunctuation) (3.16.1)\n",
            "Requirement already satisfied: typing-extensions>=4.8.0 in /usr/local/lib/python3.10/dist-packages (from torch>=1.8.1->deepmultilingualpunctuation) (4.12.2)\n",
            "Requirement already satisfied: networkx in /usr/local/lib/python3.10/dist-packages (from torch>=1.8.1->deepmultilingualpunctuation) (3.4.2)\n",
            "Requirement already satisfied: jinja2 in /usr/local/lib/python3.10/dist-packages (from torch>=1.8.1->deepmultilingualpunctuation) (3.1.4)\n",
            "Requirement already satisfied: fsspec in /usr/local/lib/python3.10/dist-packages (from torch>=1.8.1->deepmultilingualpunctuation) (2024.10.0)\n",
            "Requirement already satisfied: sympy==1.13.1 in /usr/local/lib/python3.10/dist-packages (from torch>=1.8.1->deepmultilingualpunctuation) (1.13.1)\n",
            "Requirement already satisfied: mpmath<1.4,>=1.1.0 in /usr/local/lib/python3.10/dist-packages (from sympy==1.13.1->torch>=1.8.1->deepmultilingualpunctuation) (1.3.0)\n",
            "Requirement already satisfied: huggingface-hub<1.0,>=0.24.0 in /usr/local/lib/python3.10/dist-packages (from transformers->deepmultilingualpunctuation) (0.27.0)\n",
            "Requirement already satisfied: numpy>=1.17 in /usr/local/lib/python3.10/dist-packages (from transformers->deepmultilingualpunctuation) (1.26.4)\n",
            "Requirement already satisfied: packaging>=20.0 in /usr/local/lib/python3.10/dist-packages (from transformers->deepmultilingualpunctuation) (24.2)\n",
            "Requirement already satisfied: pyyaml>=5.1 in /usr/local/lib/python3.10/dist-packages (from transformers->deepmultilingualpunctuation) (6.0.2)\n",
            "Requirement already satisfied: regex!=2019.12.17 in /usr/local/lib/python3.10/dist-packages (from transformers->deepmultilingualpunctuation) (2024.11.6)\n",
            "Requirement already satisfied: requests in /usr/local/lib/python3.10/dist-packages (from transformers->deepmultilingualpunctuation) (2.32.3)\n",
            "Requirement already satisfied: tokenizers<0.22,>=0.21 in /usr/local/lib/python3.10/dist-packages (from transformers->deepmultilingualpunctuation) (0.21.0)\n",
            "Requirement already satisfied: safetensors>=0.4.1 in /usr/local/lib/python3.10/dist-packages (from transformers->deepmultilingualpunctuation) (0.4.5)\n",
            "Requirement already satisfied: tqdm>=4.27 in /usr/local/lib/python3.10/dist-packages (from transformers->deepmultilingualpunctuation) (4.67.1)\n",
            "Requirement already satisfied: MarkupSafe>=2.0 in /usr/local/lib/python3.10/dist-packages (from jinja2->torch>=1.8.1->deepmultilingualpunctuation) (3.0.2)\n",
            "Requirement already satisfied: charset-normalizer<4,>=2 in /usr/local/lib/python3.10/dist-packages (from requests->transformers->deepmultilingualpunctuation) (3.4.0)\n",
            "Requirement already satisfied: idna<4,>=2.5 in /usr/local/lib/python3.10/dist-packages (from requests->transformers->deepmultilingualpunctuation) (3.10)\n",
            "Requirement already satisfied: urllib3<3,>=1.21.1 in /usr/local/lib/python3.10/dist-packages (from requests->transformers->deepmultilingualpunctuation) (2.2.3)\n",
            "Requirement already satisfied: certifi>=2017.4.17 in /usr/local/lib/python3.10/dist-packages (from requests->transformers->deepmultilingualpunctuation) (2024.12.14)\n"
          ]
        }
      ]
    },
    {
      "cell_type": "code",
      "source": [
        "from deepmultilingualpunctuation import PunctuationModel\n",
        "\n",
        "model = PunctuationModel()\n"
      ],
      "metadata": {
        "colab": {
          "base_uri": "https://localhost:8080/"
        },
        "id": "IbMIRq6EjU_2",
        "outputId": "65aa9cdb-42e0-4a9b-8a13-b632b04476b5"
      },
      "execution_count": 32,
      "outputs": [
        {
          "output_type": "stream",
          "name": "stderr",
          "text": [
            "Device set to use cuda:0\n",
            "/usr/local/lib/python3.10/dist-packages/transformers/pipelines/token_classification.py:170: UserWarning: `grouped_entities` is deprecated and will be removed in version v5.0.0, defaulted to `aggregation_strategy=\"none\"` instead.\n",
            "  warnings.warn(\n"
          ]
        }
      ]
    },
    {
      "cell_type": "code",
      "source": [
        "results = model.restore_punctuation(transcript_joined)\n",
        "\n",
        "print(results)"
      ],
      "metadata": {
        "colab": {
          "base_uri": "https://localhost:8080/"
        },
        "id": "Hej0NNaslxl8",
        "outputId": "eca9bd24-b7ae-4fbf-b4b9-3fe63d631c9f"
      },
      "execution_count": 33,
      "outputs": [
        {
          "output_type": "stream",
          "name": "stdout",
          "text": [
            "hey everyone, welcome back and let's write some more neat code today. so today let's solve the problems. square root of x. we're given a non-negative integer, X, and we want to return the square root of x, rounded down to the nearest integer. so, for example, the number four. what's the square root? it's 2. 2 squared is equal to 4.. what about 8? well, it doesn't have like an integer value square root. it's something like 2.82. you take that number and square it, you get eight. but in this case we would want to still return the value 2 because it's the square root rounded down. so how can we solve this problem? well, given an integer, let's say x equals 7- how do we find the square root? we know it's going to be two, point something, something, and we're going to round that down to two. but how would we determine that? well, the brute force would be to just iterate four in range, let's say starting at 1 and going all the way up until the x value, which is, in this case, seven. we're going to Brute Force this and find the square root. we know the square root is going to be less than 7 and probably greater than or equal to 1, though it probably wouldn't hurt to start at zero, because in this case our input value X could be zero and the square root of zero, I guess, is also zero. but that's a minor detail. let's say we start at one. we square one that's equal to one. is that the square root? well, let's try the next value: two, two squared, is equal to four. is that the square root of 7? well, let's keep trying. we get to 3. now, 3 squared is equal to nine. so we went too high. we are now greater than seven. so three is not going to be the square root because we know we're going to round down anyway. the last value that we saw that did not go over was two. two squared was equal to 4. so so 2 is going to be the square root of 7, rounded down. now, the downside with this solution is that it is a Brute Force solution. it's actually not Big O of n, even though it kind of looks like it, because we know that the loop is going to terminate before we get to n. it's going to terminate by the time we reach the value which is the square root of n, which makes sense because let's say, you know, in terms of n, n is the input value X. we know we're going to stop by the time we get to the value which is the square root of n, because we know that value squared is going to be equal to n. so in reality, this for Loop is going to run in Big O of the square root of n time. but we can actually do even better than this as well, because we can use a binary search approach which is going to be log n. now, before I explain it, you might be wondering how do we know that this is more efficient than the square root of n, because it's not super obvious. well, I won't give you like a super long mathematical proof, but intuitively we can think about this in terms of big n values. what is the square root of n if n is equal to a million? well, the square root of a million is going to be a thousand. well, what is log base 2 of a million? well, it's going to be an integer value. I don't know the exact value, but I know it's in the magnitude of like 20 or something, maybe 21 or 19, something like that, but clearly that's a big difference. square root of a million is a thousand. log base 2 of a million is 20.. you can clearly see that log grows a lot slower, so log is going to be much more efficient if we can achieve a solution like this, which we can using binary search. we know our search space is going to be between, let's say, zero all the way up until X. it's a range of values we're going to calculate the Midway point. so 0 plus x divided by 2 is going to give us some Midway value. we're going to check M squared- is it greater than x? because if it's greater, we know that this can't be the square root of x and we need to now decrease our search space. so if this is true, what we would say then is we're going to cut our search space in half and now start searching between 0 and M minus one, whatever that previous M value happened to be, and we're going to continue doing this. suppose next time we calculate the mid value and mid squared is actually less than x then then we would do the opposite. we would increase our search space and then search on the values on the right side of that, and we would keep doing this. but the difference here is that when our M squared value is less than x, this is going to be a candidate for our result, because we basically want the largest value, the largest M value, where this is true. that's assuming, though, that the square root is going to be a non-integer value. it's also possible that the M squared value actually is equal to X. if this was the case, suppose, like an example like this, where 2 squared is equal to 4.. if this is the case, we basically return immediately. so that's the idea of how we're going to solve this with binary search in login time. it's going to make even more sense when I show you the code right now. so first things first. let's initialize our search base. left is going to be set to zero. right is going to be set to X. we're also going to initialize our result. it doesn't really matter what value we give it. I'm just going to give it a zero, and then we're going to run our binary search. while left is less than or equal to right, while our pointers haven't crossed each other, we're going to continue searching. you could say: m is equal to left plus right divided by 2, but that could possibly overflow. a better way to do it is to say left plus the halfway distance between right minus left. so taking right minus left and dividing that by two. this also gives us the same value as before. it's a different math equation for the same value. the only difference is that this will never overflow. it's a minor detail, but I think it's worth knowing. next, we're going to run our equalities, so we're going to check: is M squared? you can square it like this in Python: is it greater than x? what happens? if it's greater than x? then we're going to decrease our search space. we're going to say right is equal to M minus 1.. we're going to search on the left side. else, if the opposite, if M squared is less than x, then we're going to search on the right side. we're going to say left is equal to M plus 1.. but also, if this is the case, we possibly want to set our result to this value, because this could be the result. this mid value could be the result. so we're going to set it like that. now the third case- and this might not always execute- is that M squared is equal to X. we can just use an else condition for that, and then we would want to immediately return the mid value because we found the exact square root. otherwise we know that the loop is eventually going to terminate and by the time it terminates, our result will be set to basically the gray latest mid value. that was less than x. well, the greatest value that we could square, that is less than x, which is basically the square root rounded down. so in that case we would want to return the result outside of the loop, just like this. so now let's run the code to make sure that it works. as you can see it does. it's pretty efficient. if this was helpful, please like And subscribe. if you're preparing for coding interviews, check out necoio. it has a ton of free resources to help you prepare. thanks for watching and hopefully I'll see you pretty soon.\n"
          ]
        }
      ]
    },
    {
      "cell_type": "code",
      "source": [
        "!pip install -q google-generativeai\n"
      ],
      "metadata": {
        "id": "Q8bbcZ6uxIGF"
      },
      "execution_count": 34,
      "outputs": []
    },
    {
      "cell_type": "code",
      "source": [
        "%%writefile .env\n",
        "GEMINI_API_KEY=AIzaSyD..\n"
      ],
      "metadata": {
        "colab": {
          "base_uri": "https://localhost:8080/"
        },
        "id": "Sup4b0Jty_zL",
        "outputId": "4d568dd1-0bd2-41f8-d256-0b064f6a591b"
      },
      "execution_count": 35,
      "outputs": [
        {
          "output_type": "stream",
          "name": "stdout",
          "text": [
            "Overwriting .env\n"
          ]
        }
      ]
    },
    {
      "cell_type": "code",
      "source": [
        "!pip install python-dotenv\n",
        "from dotenv import load_dotenv\n",
        "import os\n",
        "\n",
        "# Load the .env file\n",
        "load_dotenv()\n",
        "\n",
        "# Get the API key\n",
        "api_key = os.getenv(\"GEMINI_API_KEY\")\n",
        "\n",
        "# Check if API key is loaded\n",
        "if api_key:\n",
        "    print(\"✅ API Key Loaded Successfully\")\n",
        "else:\n",
        "    print(\"❌ API Key Not Found! Check your .env file.\")\n"
      ],
      "metadata": {
        "colab": {
          "base_uri": "https://localhost:8080/"
        },
        "id": "JokhULYGzJtN",
        "outputId": "a2d69e3c-5070-442c-aafb-309ee388d55a"
      },
      "execution_count": 36,
      "outputs": [
        {
          "output_type": "stream",
          "name": "stdout",
          "text": [
            "Requirement already satisfied: python-dotenv in /usr/local/lib/python3.10/dist-packages (1.0.1)\n",
            "✅ API Key Loaded Successfully\n"
          ]
        }
      ]
    },
    {
      "cell_type": "code",
      "source": [
        "import google.generativeai as genai\n",
        "\n",
        "# Set up the Gemini API\n",
        "genai.configure(api_key=api_key)\n",
        "\n",
        "# Initialize the model\n",
        "model = genai.GenerativeModel(\"gemini-pro\")\n"
      ],
      "metadata": {
        "id": "SPTgDFo_zNMu"
      },
      "execution_count": 37,
      "outputs": []
    },
    {
      "cell_type": "code",
      "source": [
        "# Define prompt\n",
        "prompt = f'Answer questions based on the following text:\\n\\n\"{transcript_joined}\"\\n\\nWhat is in this video? explain in bullets?'\n",
        "\n",
        "# Generate response\n",
        "response = model.generate_content(prompt)\n",
        "\n",
        "# Print the response\n",
        "print(response.text)"
      ],
      "metadata": {
        "colab": {
          "base_uri": "https://localhost:8080/",
          "height": 90
        },
        "id": "pNZ1svRoz2lg",
        "outputId": "b545bcb5-5d8e-4f18-fc10-1546085f57e6"
      },
      "execution_count": 38,
      "outputs": [
        {
          "output_type": "stream",
          "name": "stdout",
          "text": [
            "- Brute force solution to find the square root of a non-negative integer X by iterating through all possible values from 1 to X.\n",
            "- Binary search algorithm to find the square root of X in log n time.\n",
            "- Implementation of the binary search solution in Python.\n",
            "- Discussion of the efficiency of the binary search solution compared to the brute force solution.\n"
          ]
        }
      ]
    },
    {
      "cell_type": "code",
      "source": [
        "!rm .env\n"
      ],
      "metadata": {
        "id": "ilzD54U-0jC1"
      },
      "execution_count": 39,
      "outputs": []
    },
    {
      "cell_type": "code",
      "source": [],
      "metadata": {
        "id": "8OgigyFl23ln"
      },
      "execution_count": 39,
      "outputs": []
    }
  ]
}